{
 "cells": [
  {
   "cell_type": "code",
   "execution_count": 1,
   "id": "dd95ddcd-1f4e-4230-802b-1ebe82803217",
   "metadata": {},
   "outputs": [],
   "source": [
    "import numpy as np\n",
    "import pandas as pd\n",
    "import matplotlib.pyplot as plt\n",
    "import seaborn as sns\n",
    "import sklearn"
   ]
  },
  {
   "cell_type": "code",
   "execution_count": 2,
   "id": "bf12e43e-a6fe-4e9c-9c6b-a2613f525342",
   "metadata": {},
   "outputs": [
    {
     "data": {
      "text/html": [
       "<div>\n",
       "<style scoped>\n",
       "    .dataframe tbody tr th:only-of-type {\n",
       "        vertical-align: middle;\n",
       "    }\n",
       "\n",
       "    .dataframe tbody tr th {\n",
       "        vertical-align: top;\n",
       "    }\n",
       "\n",
       "    .dataframe thead th {\n",
       "        text-align: right;\n",
       "    }\n",
       "</style>\n",
       "<table border=\"1\" class=\"dataframe\">\n",
       "  <thead>\n",
       "    <tr style=\"text-align: right;\">\n",
       "      <th></th>\n",
       "      <th>Time</th>\n",
       "      <th>Sym</th>\n",
       "      <th>C/P</th>\n",
       "      <th>Exp</th>\n",
       "      <th>Strike</th>\n",
       "      <th>Spot</th>\n",
       "      <th>BidAsk</th>\n",
       "      <th>Orders</th>\n",
       "      <th>Vol</th>\n",
       "      <th>Prems</th>\n",
       "      <th>OI</th>\n",
       "      <th>Diff(%)</th>\n",
       "      <th>ITM</th>\n",
       "    </tr>\n",
       "  </thead>\n",
       "  <tbody>\n",
       "    <tr>\n",
       "      <th>0</th>\n",
       "      <td>6/17/2022 15:07</td>\n",
       "      <td>ISEE</td>\n",
       "      <td>Call</td>\n",
       "      <td>10/21/2022</td>\n",
       "      <td>10.0</td>\n",
       "      <td>9.54</td>\n",
       "      <td>5.05</td>\n",
       "      <td>7</td>\n",
       "      <td>360</td>\n",
       "      <td>183.60K</td>\n",
       "      <td>4.07K</td>\n",
       "      <td>4.71</td>\n",
       "      <td>0</td>\n",
       "    </tr>\n",
       "    <tr>\n",
       "      <th>1</th>\n",
       "      <td>6/17/2022 15:05</td>\n",
       "      <td>CVNA</td>\n",
       "      <td>Call</td>\n",
       "      <td>1/19/2024</td>\n",
       "      <td>60.0</td>\n",
       "      <td>23.52</td>\n",
       "      <td>4.60</td>\n",
       "      <td>7</td>\n",
       "      <td>634</td>\n",
       "      <td>310.66K</td>\n",
       "      <td>130</td>\n",
       "      <td>155.05</td>\n",
       "      <td>0</td>\n",
       "    </tr>\n",
       "    <tr>\n",
       "      <th>2</th>\n",
       "      <td>6/17/2022 14:51</td>\n",
       "      <td>PTLO</td>\n",
       "      <td>Put</td>\n",
       "      <td>2/17/2023</td>\n",
       "      <td>15.0</td>\n",
       "      <td>15.19</td>\n",
       "      <td>3.50</td>\n",
       "      <td>7</td>\n",
       "      <td>800</td>\n",
       "      <td>281.00K</td>\n",
       "      <td>0</td>\n",
       "      <td>1.39</td>\n",
       "      <td>0</td>\n",
       "    </tr>\n",
       "    <tr>\n",
       "      <th>3</th>\n",
       "      <td>6/17/2022 14:39</td>\n",
       "      <td>TWLO</td>\n",
       "      <td>Call</td>\n",
       "      <td>6/24/2022</td>\n",
       "      <td>86.0</td>\n",
       "      <td>84.51</td>\n",
       "      <td>2.95</td>\n",
       "      <td>5</td>\n",
       "      <td>722</td>\n",
       "      <td>198.80K</td>\n",
       "      <td>436</td>\n",
       "      <td>2.48</td>\n",
       "      <td>0</td>\n",
       "    </tr>\n",
       "    <tr>\n",
       "      <th>4</th>\n",
       "      <td>6/17/2022 13:56</td>\n",
       "      <td>ATUS</td>\n",
       "      <td>Put</td>\n",
       "      <td>9/16/2022</td>\n",
       "      <td>7.0</td>\n",
       "      <td>8.62</td>\n",
       "      <td>0.68</td>\n",
       "      <td>5</td>\n",
       "      <td>6.27K</td>\n",
       "      <td>501.84K</td>\n",
       "      <td>8.63K</td>\n",
       "      <td>23.13</td>\n",
       "      <td>0</td>\n",
       "    </tr>\n",
       "  </tbody>\n",
       "</table>\n",
       "</div>"
      ],
      "text/plain": [
       "              Time   Sym   C/P         Exp  Strike   Spot  BidAsk  Orders  \\\n",
       "0  6/17/2022 15:07  ISEE  Call  10/21/2022    10.0   9.54    5.05       7   \n",
       "1  6/17/2022 15:05  CVNA  Call   1/19/2024    60.0  23.52    4.60       7   \n",
       "2  6/17/2022 14:51  PTLO   Put   2/17/2023    15.0  15.19    3.50       7   \n",
       "3  6/17/2022 14:39  TWLO  Call   6/24/2022    86.0  84.51    2.95       5   \n",
       "4  6/17/2022 13:56  ATUS   Put   9/16/2022     7.0   8.62    0.68       5   \n",
       "\n",
       "     Vol    Prems     OI  Diff(%)  ITM  \n",
       "0    360  183.60K  4.07K     4.71    0  \n",
       "1    634  310.66K    130   155.05    0  \n",
       "2    800  281.00K      0     1.39    0  \n",
       "3    722  198.80K    436     2.48    0  \n",
       "4  6.27K  501.84K  8.63K    23.13    0  "
      ]
     },
     "execution_count": 2,
     "metadata": {},
     "output_type": "execute_result"
    }
   ],
   "source": [
    "df = pd.read_csv(\"Data/data.csv\")\n",
    "df.head()"
   ]
  },
  {
   "cell_type": "code",
   "execution_count": 3,
   "id": "94058db1-75dd-4556-9ab2-adb6a7407e48",
   "metadata": {},
   "outputs": [
    {
     "data": {
      "text/plain": [
       "(7827, 13)"
      ]
     },
     "execution_count": 3,
     "metadata": {},
     "output_type": "execute_result"
    }
   ],
   "source": [
    "df.shape"
   ]
  },
  {
   "cell_type": "code",
   "execution_count": 4,
   "id": "ed07dd49-17e9-4f5a-966c-668ffcf3d2c9",
   "metadata": {},
   "outputs": [
    {
     "data": {
      "text/plain": [
       "Time        object\n",
       "Sym         object\n",
       "C/P         object\n",
       "Exp         object\n",
       "Strike     float64\n",
       "Spot       float64\n",
       "BidAsk     float64\n",
       "Orders       int64\n",
       "Vol         object\n",
       "Prems       object\n",
       "OI          object\n",
       "Diff(%)    float64\n",
       "ITM          int64\n",
       "dtype: object"
      ]
     },
     "execution_count": 4,
     "metadata": {},
     "output_type": "execute_result"
    }
   ],
   "source": [
    "df.dtypes"
   ]
  },
  {
   "cell_type": "code",
   "execution_count": 5,
   "id": "02aa9837-b56b-4add-9bea-bf0e6dd20d0a",
   "metadata": {},
   "outputs": [
    {
     "data": {
      "text/plain": [
       "1107"
      ]
     },
     "execution_count": 5,
     "metadata": {},
     "output_type": "execute_result"
    }
   ],
   "source": [
    "len(df.Sym.unique())"
   ]
  },
  {
   "cell_type": "code",
   "execution_count": 6,
   "id": "591a5bbe-81c4-4406-b2de-a3274f82cee0",
   "metadata": {},
   "outputs": [
    {
     "data": {
      "image/png": "[encoded data removed]",
      "text/plain": [
       "<Figure size 300x300 with 1 Axes>"
      ]
     },
     "metadata": {},
     "output_type": "display_data"
    }
   ],
   "source": [
    "plt.figure(figsize=(3, 3))\n",
    "sns.heatmap(df.isna(), cmap='viridis', cbar=False)\n",
    "plt.title('Mapa de calor de valores faltantes (NA)')\n",
    "plt.show()"
   ]
  },
  {
   "cell_type": "code",
   "execution_count": 7,
   "id": "2c6ca4ca-9507-4a42-b5a8-5b687ccb54ae",
   "metadata": {},
   "outputs": [
    {
     "data": {
      "text/plain": [
       "np.False_"
      ]
     },
     "execution_count": 7,
     "metadata": {},
     "output_type": "execute_result"
    }
   ],
   "source": [
    "df.isna().any().any()"
   ]
  },
  {
   "cell_type": "code",
   "execution_count": 8,
   "id": "a1b8a8e0-217e-48e9-9dce-dd7504fb3244",
   "metadata": {},
   "outputs": [],
   "source": [
    "def conv2num(value):\n",
    "    if value.endswith('K'):\n",
    "        return float(value[:-1]) * 1000\n",
    "    elif value.endswith('M'):\n",
    "        return float(value[:-1]) * 1000000\n",
    "    else:\n",
    "        return float(value)"
   ]
  },
  {
   "cell_type": "code",
   "execution_count": 9,
   "id": "72f438da-941f-41e8-b878-62b518154793",
   "metadata": {},
   "outputs": [],
   "source": [
    "df.Vol = df.Vol.apply(conv2num)\n",
    "df.Prems = df.Prems.apply(conv2num)\n",
    "df.OI = df.OI.apply(conv2num)"
   ]
  },
  {
   "cell_type": "code",
   "execution_count": 10,
   "id": "310ef504-12a3-4b2a-aa25-607ca7a819cd",
   "metadata": {},
   "outputs": [],
   "source": [
    "df['C/P'] = df['C/P'].astype('category')"
   ]
  },
  {
   "cell_type": "code",
   "execution_count": 11,
   "id": "a1233fb2-cad3-4051-a8a4-db728be9fb8d",
   "metadata": {},
   "outputs": [],
   "source": [
    "df.Exp = pd.to_datetime(df.Exp, format='%m/%d/%Y')"
   ]
  },
  {
   "cell_type": "code",
   "execution_count": 12,
   "id": "3c794041-5019-470b-817e-53eb71f953dc",
   "metadata": {},
   "outputs": [],
   "source": [
    "df.Time = pd.to_datetime(df.Time, format='%m/%d/%Y %H:%M')"
   ]
  },
  {
   "cell_type": "code",
   "execution_count": 13,
   "id": "c15594b3-68e1-46e7-a81d-c325edfb3a2f",
   "metadata": {},
   "outputs": [
    {
     "data": {
      "text/html": [
       "<div>\n",
       "<style scoped>\n",
       "    .dataframe tbody tr th:only-of-type {\n",
       "        vertical-align: middle;\n",
       "    }\n",
       "\n",
       "    .dataframe tbody tr th {\n",
       "        vertical-align: top;\n",
       "    }\n",
       "\n",
       "    .dataframe thead th {\n",
       "        text-align: right;\n",
       "    }\n",
       "</style>\n",
       "<table border=\"1\" class=\"dataframe\">\n",
       "  <thead>\n",
       "    <tr style=\"text-align: right;\">\n",
       "      <th></th>\n",
       "      <th>Time</th>\n",
       "      <th>Sym</th>\n",
       "      <th>C/P</th>\n",
       "      <th>Exp</th>\n",
       "      <th>Strike</th>\n",
       "      <th>Spot</th>\n",
       "      <th>BidAsk</th>\n",
       "      <th>Orders</th>\n",
       "      <th>Vol</th>\n",
       "      <th>Prems</th>\n",
       "      <th>OI</th>\n",
       "      <th>Diff(%)</th>\n",
       "      <th>ITM</th>\n",
       "    </tr>\n",
       "  </thead>\n",
       "  <tbody>\n",
       "    <tr>\n",
       "      <th>0</th>\n",
       "      <td>2022-06-17 15:07:00</td>\n",
       "      <td>ISEE</td>\n",
       "      <td>Call</td>\n",
       "      <td>2022-10-21</td>\n",
       "      <td>10.0</td>\n",
       "      <td>9.54</td>\n",
       "      <td>5.05</td>\n",
       "      <td>7</td>\n",
       "      <td>360.0</td>\n",
       "      <td>183600.0</td>\n",
       "      <td>4070.0</td>\n",
       "      <td>4.71</td>\n",
       "      <td>0</td>\n",
       "    </tr>\n",
       "    <tr>\n",
       "      <th>1</th>\n",
       "      <td>2022-06-17 15:05:00</td>\n",
       "      <td>CVNA</td>\n",
       "      <td>Call</td>\n",
       "      <td>2024-01-19</td>\n",
       "      <td>60.0</td>\n",
       "      <td>23.52</td>\n",
       "      <td>4.60</td>\n",
       "      <td>7</td>\n",
       "      <td>634.0</td>\n",
       "      <td>310660.0</td>\n",
       "      <td>130.0</td>\n",
       "      <td>155.05</td>\n",
       "      <td>0</td>\n",
       "    </tr>\n",
       "    <tr>\n",
       "      <th>2</th>\n",
       "      <td>2022-06-17 14:51:00</td>\n",
       "      <td>PTLO</td>\n",
       "      <td>Put</td>\n",
       "      <td>2023-02-17</td>\n",
       "      <td>15.0</td>\n",
       "      <td>15.19</td>\n",
       "      <td>3.50</td>\n",
       "      <td>7</td>\n",
       "      <td>800.0</td>\n",
       "      <td>281000.0</td>\n",
       "      <td>0.0</td>\n",
       "      <td>1.39</td>\n",
       "      <td>0</td>\n",
       "    </tr>\n",
       "    <tr>\n",
       "      <th>3</th>\n",
       "      <td>2022-06-17 14:39:00</td>\n",
       "      <td>TWLO</td>\n",
       "      <td>Call</td>\n",
       "      <td>2022-06-24</td>\n",
       "      <td>86.0</td>\n",
       "      <td>84.51</td>\n",
       "      <td>2.95</td>\n",
       "      <td>5</td>\n",
       "      <td>722.0</td>\n",
       "      <td>198800.0</td>\n",
       "      <td>436.0</td>\n",
       "      <td>2.48</td>\n",
       "      <td>0</td>\n",
       "    </tr>\n",
       "    <tr>\n",
       "      <th>4</th>\n",
       "      <td>2022-06-17 13:56:00</td>\n",
       "      <td>ATUS</td>\n",
       "      <td>Put</td>\n",
       "      <td>2022-09-16</td>\n",
       "      <td>7.0</td>\n",
       "      <td>8.62</td>\n",
       "      <td>0.68</td>\n",
       "      <td>5</td>\n",
       "      <td>6270.0</td>\n",
       "      <td>501840.0</td>\n",
       "      <td>8630.0</td>\n",
       "      <td>23.13</td>\n",
       "      <td>0</td>\n",
       "    </tr>\n",
       "  </tbody>\n",
       "</table>\n",
       "</div>"
      ],
      "text/plain": [
       "                 Time   Sym   C/P        Exp  Strike   Spot  BidAsk  Orders  \\\n",
       "0 2022-06-17 15:07:00  ISEE  Call 2022-10-21    10.0   9.54    5.05       7   \n",
       "1 2022-06-17 15:05:00  CVNA  Call 2024-01-19    60.0  23.52    4.60       7   \n",
       "2 2022-06-17 14:51:00  PTLO   Put 2023-02-17    15.0  15.19    3.50       7   \n",
       "3 2022-06-17 14:39:00  TWLO  Call 2022-06-24    86.0  84.51    2.95       5   \n",
       "4 2022-06-17 13:56:00  ATUS   Put 2022-09-16     7.0   8.62    0.68       5   \n",
       "\n",
       "      Vol     Prems      OI  Diff(%)  ITM  \n",
       "0   360.0  183600.0  4070.0     4.71    0  \n",
       "1   634.0  310660.0   130.0   155.05    0  \n",
       "2   800.0  281000.0     0.0     1.39    0  \n",
       "3   722.0  198800.0   436.0     2.48    0  \n",
       "4  6270.0  501840.0  8630.0    23.13    0  "
      ]
     },
     "execution_count": 13,
     "metadata": {},
     "output_type": "execute_result"
    }
   ],
   "source": [
    "df.head()"
   ]
  },
  {
   "cell_type": "code",
   "execution_count": 14,
   "id": "2c3494c7-8388-492c-aa5a-3947623ebdfd",
   "metadata": {},
   "outputs": [
    {
     "data": {
      "text/plain": [
       "Time       datetime64[ns]\n",
       "Sym                object\n",
       "C/P              category\n",
       "Exp        datetime64[ns]\n",
       "Strike            float64\n",
       "Spot              float64\n",
       "BidAsk            float64\n",
       "Orders              int64\n",
       "Vol               float64\n",
       "Prems             float64\n",
       "OI                float64\n",
       "Diff(%)           float64\n",
       "ITM                 int64\n",
       "dtype: object"
      ]
     },
     "execution_count": 14,
     "metadata": {},
     "output_type": "execute_result"
    }
   ],
   "source": [
    "df.dtypes"
   ]
  }
 ],
 "metadata": {
  "kernelspec": {
   "display_name": "Python 3 (ipykernel)",
   "language": "python",
   "name": "python3"
  },
  "language_info": {
   "codemirror_mode": {
    "name": "ipython",
    "version": 3
   },
   "file_extension": ".py",
   "mimetype": "text/x-python",
   "name": "python",
   "nbconvert_exporter": "python",
   "pygments_lexer": "ipython3",
   "version": "3.10.12"
  }
 },
 "nbformat": 4,
 "nbformat_minor": 5
}
